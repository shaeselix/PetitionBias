{
 "cells": [
  {
   "cell_type": "code",
   "execution_count": 39,
   "metadata": {
    "collapsed": true
   },
   "outputs": [],
   "source": [
    "from selenium import webdriver\n",
    "from urllib.parse import urlencode\n",
    "import requests\n",
    "from bs4 import BeautifulSoup\n",
    "import re"
   ]
  },
  {
   "cell_type": "code",
   "execution_count": 35,
   "metadata": {
    "collapsed": true
   },
   "outputs": [],
   "source": [
    "%run ChangeScraper.py"
   ]
  },
  {
   "cell_type": "code",
   "execution_count": 36,
   "metadata": {
    "collapsed": true
   },
   "outputs": [],
   "source": [
    "t = ChangeScraper()"
   ]
  },
  {
   "cell_type": "code",
   "execution_count": 37,
   "metadata": {
    "collapsed": false
   },
   "outputs": [
    {
     "name": "stdout",
     "output_type": "stream",
     "text": [
      "\"Hebron\": 8 results\n",
      "Continue? (y/n): y\n",
      "https://www.change.org/p/the-principal-stop-the-mount-hebron-dress-code\n",
      "https://www.change.org/p/henron-hill-residents-stop-the-zoning-on-hebron-hill-brandon-ms\n",
      "https://www.change.org/p/mr-michael-s-finch-a-hebron-high-school-teacher-assaulted-a-property-resident-has-to-be-fired-for-her-actions\n",
      "https://www.change.org/p/sveriges-regering-upph%C3%B6r-med-finansiering-av-den-palestinska-myndigheten-som-sprider-antisemitism-och-glorifierar-terror\n",
      "https://www.change.org/p/uk-foreign-office-via-keir-starmer-mp-local-mp-for-cadfa-act-now-against-human-rights-violations-in-palestine-before-more-people-lose-their-lives\n",
      "https://www.change.org/p/the-right-hon-julie-bishop-mp-minister-for-foreign-affairs-stop-palestinian-home-demolitions\n",
      "https://www.change.org/p/caetano-and-gil-please-stop-any-further-colaboration-with-israeli-apartheid\n",
      "https://www.change.org/p/usps-street-delivery-in-sharptown-md\n"
     ]
    }
   ],
   "source": [
    "t.Search('Hebron')"
   ]
  },
  {
   "cell_type": "code",
   "execution_count": 40,
   "metadata": {
    "collapsed": true
   },
   "outputs": [],
   "source": [
    "test = requests.get('https://www.change.org/p/henron-hill-residents-stop-the-zoning-on-hebron-hill-brandon-ms')"
   ]
  },
  {
   "cell_type": "code",
   "execution_count": null,
   "metadata": {
    "collapsed": true
   },
   "outputs": [],
   "source": [
    "test."
   ]
  }
 ],
 "metadata": {
  "kernelspec": {
   "display_name": "Python 3",
   "language": "python",
   "name": "python3"
  },
  "language_info": {
   "codemirror_mode": {
    "name": "ipython",
    "version": 3
   },
   "file_extension": ".py",
   "mimetype": "text/x-python",
   "name": "python",
   "nbconvert_exporter": "python",
   "pygments_lexer": "ipython3",
   "version": "3.4.3"
  }
 },
 "nbformat": 4,
 "nbformat_minor": 0
}
